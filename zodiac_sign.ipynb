{
  "nbformat": 4,
  "nbformat_minor": 0,
  "metadata": {
    "colab": {
      "provenance": [],
      "authorship_tag": "ABX9TyPOyPMdhOBefEbsepTxqkNe",
      "include_colab_link": true
    },
    "kernelspec": {
      "name": "python3",
      "display_name": "Python 3"
    },
    "language_info": {
      "name": "python"
    }
  },
  "cells": [
    {
      "cell_type": "markdown",
      "metadata": {
        "id": "view-in-github",
        "colab_type": "text"
      },
      "source": [
        "<a href=\"https://colab.research.google.com/github/Akarsh110/Zodiac-Sign-Finder-Python/blob/main/zodiac_sign.ipynb\" target=\"_parent\"><img src=\"https://colab.research.google.com/assets/colab-badge.svg\" alt=\"Open In Colab\"/></a>"
      ]
    },
    {
      "cell_type": "code",
      "execution_count": null,
      "metadata": {
        "id": "T6YIKVSWP5mW"
      },
      "outputs": [],
      "source": [
        "signs={\"jan\":\"Aries\",\"feb\":\"gemini\",\"march\":\"cancer\",\"april\":\"leo\",\"may\":\"virgo\",\"june\":\"scorpio\",\"july\":\"sagittarius\",\"aug\":\"caprion\",\"sep\":\"aquarius\",\"oct\":\"tuarus\",\"nov\":\"pisces\",\"dec\":\"libra\"\n",
        "}\n",
        "month=input()\n",
        "if month in signs:\n",
        "  print(signs[month])\n",
        "else:\n",
        "  print(\"invalid\")"
      ]
    }
  ]
}